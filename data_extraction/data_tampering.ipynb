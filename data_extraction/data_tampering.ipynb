{
 "cells": [
  {
   "attachments": {},
   "cell_type": "markdown",
   "metadata": {},
   "source": [
    "## Split Train / Testing"
   ]
  },
  {
   "cell_type": "code",
   "execution_count": null,
   "metadata": {},
   "outputs": [],
   "source": [
    "import pandas as pd"
   ]
  },
  {
   "cell_type": "code",
   "execution_count": null,
   "metadata": {},
   "outputs": [],
   "source": [
    "joins = 2\n",
    "query_type = 'star'\n",
    "dataset = 'lubm'\n",
    "\n",
    "dataset = 'training_yelp_' + query_type + '_super_sim_' + str(joins) + '.csv'\n",
    "training_set = query_type + '/' + dataset + '/' + query_type + '_' + str(joins) + '_yelp_sim_80_20.csv'\n",
    "testing_set = query_type + '/' + dataset + '/eval_' + query_type + '_' + str(joins) + '_yelp_sim_80_20.csv'\n",
    "\n",
    "if query_type == 'star':\n",
    "    data = pd.read_csv(dataset, sep=':', header=None)\n",
    "else:\n",
    "    data = pd.read_csv(dataset, sep=',', header=None)\n",
    "data = data.astype({1:'int'})\n",
    "data"
   ]
  },
  {
   "cell_type": "code",
   "execution_count": null,
   "metadata": {},
   "outputs": [],
   "source": [
    "train = data.sample(frac=0.8,random_state=200)\n",
    "test = data.drop(train.index)"
   ]
  },
  {
   "cell_type": "code",
   "execution_count": null,
   "metadata": {},
   "outputs": [],
   "source": [
    "train"
   ]
  },
  {
   "cell_type": "code",
   "execution_count": null,
   "metadata": {},
   "outputs": [],
   "source": [
    "test"
   ]
  },
  {
   "cell_type": "code",
   "execution_count": null,
   "metadata": {},
   "outputs": [],
   "source": [
    "if query_type == 'star':\n",
    "    train.to_csv(training_set, index=False, header=None, sep=':')\n",
    "    test.to_csv(testing_set, index=False, header=None, sep=':')\n",
    "else:\n",
    "    train.to_csv(training_set, index=False, header=None, sep=',')\n",
    "    test.to_csv(testing_set, index=False, header=None, sep=',')"
   ]
  }
 ],
 "metadata": {
  "kernelspec": {
   "display_name": "tf-gpu (Python 3.8)",
   "language": "python",
   "name": "tf-gpu"
  },
  "language_info": {
   "codemirror_mode": {
    "name": "ipython",
    "version": 3
   },
   "file_extension": ".py",
   "mimetype": "text/x-python",
   "name": "python",
   "nbconvert_exporter": "python",
   "pygments_lexer": "ipython3",
   "version": "3.10.4"
  },
  "vscode": {
   "interpreter": {
    "hash": "08bb67f74b129a988cf8eea77fd9d90f2202063d49792fea2dfe886d1af6d1e6"
   }
  }
 },
 "nbformat": 4,
 "nbformat_minor": 1
}
